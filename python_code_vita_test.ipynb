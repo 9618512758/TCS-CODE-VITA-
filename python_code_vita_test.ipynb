{
  "nbformat": 4,
  "nbformat_minor": 0,
  "metadata": {
    "colab": {
      "provenance": [],
      "authorship_tag": "ABX9TyMy/av/6TXG3y68Ql0sg07L",
      "include_colab_link": true
    },
    "kernelspec": {
      "name": "python3",
      "display_name": "Python 3"
    },
    "language_info": {
      "name": "python"
    }
  },
  "cells": [
    {
      "cell_type": "markdown",
      "metadata": {
        "id": "view-in-github",
        "colab_type": "text"
      },
      "source": [
        "<a href=\"https://colab.research.google.com/github/9618512758/TCS-CODE-VITA-/blob/main/python_code_vita_test.ipynb\" target=\"_parent\"><img src=\"https://colab.research.google.com/assets/colab-badge.svg\" alt=\"Open In Colab\"/></a>"
      ]
    },
    {
      "cell_type": "code",
      "execution_count": null,
      "metadata": {
        "colab": {
          "base_uri": "https://localhost:8080/"
        },
        "id": "SlZ5oD61I0Mf",
        "outputId": "9acc8e06-eba9-4c34-ef14-fdbee1c60b68"
      },
      "outputs": [
        {
          "output_type": "stream",
          "name": "stdout",
          "text": [
            "0 1 2 3 4 5 6 7 8 9 "
          ]
        }
      ],
      "source": [
        "for i in range(10):\n",
        "  print(i , end=\" \")"
      ]
    },
    {
      "cell_type": "code",
      "source": [
        "a=[1,2,3,4,5,6,7,8]\n",
        "for i in a:\n",
        "  print(i,end=\" \")"
      ],
      "metadata": {
        "colab": {
          "base_uri": "https://localhost:8080/"
        },
        "id": "wXuWs1utJLxB",
        "outputId": "fa7e38f2-e60d-48ce-80e0-ff19bbfc0b13"
      },
      "execution_count": null,
      "outputs": [
        {
          "output_type": "stream",
          "name": "stdout",
          "text": [
            "1 2 3 4 5 6 7 8 "
          ]
        }
      ]
    },
    {
      "cell_type": "code",
      "source": [
        "a=\"python\"\n",
        "for i in a:\n",
        "  if a=='t':\n",
        "    print(i)"
      ],
      "metadata": {
        "id": "1n3Zp31aJdRg"
      },
      "execution_count": 19,
      "outputs": []
    },
    {
      "cell_type": "code",
      "source": [
        "a=\"tanmayee\"\n",
        "count=0\n",
        "for i in a:\n",
        "  if i =='e':\n",
        "    count+=1\n",
        "    print(count ,end=' ')"
      ],
      "metadata": {
        "colab": {
          "base_uri": "https://localhost:8080/"
        },
        "id": "bt8Ifvr_J4i3",
        "outputId": "1eece41e-665f-4a29-8457-2b22d72976a0"
      },
      "execution_count": 20,
      "outputs": [
        {
          "output_type": "stream",
          "name": "stdout",
          "text": [
            "1 2 "
          ]
        }
      ]
    },
    {
      "cell_type": "code",
      "source": [
        "n=int(input())\n",
        "if(n>=45 and n<=41):\n",
        "  print(\"A\")\n",
        "elif(n>=36 and n<=40):\n",
        "  print(\"B\")\n",
        "elif(n>=31 and n<=35):\n",
        "  print(\"C\")\n",
        "elif(n>=0 and n<=34):\n",
        "  print(\"D\")\n",
        "else:\n",
        "  print(\"invalid\")"
      ],
      "metadata": {
        "colab": {
          "base_uri": "https://localhost:8080/"
        },
        "id": "28ktlCUoKdSf",
        "outputId": "f17db06e-e49b-49d5-981d-21434082e1e5"
      },
      "execution_count": 22,
      "outputs": [
        {
          "output_type": "stream",
          "name": "stdout",
          "text": [
            "50\n",
            "invalid\n"
          ]
        }
      ]
    },
    {
      "cell_type": "code",
      "source": [
        "n=int(input())\n",
        "a=n\n",
        "sum=0\n",
        "while a!=0:\n",
        "  digit=a%10\n",
        "  factorial=1\n",
        "  for i in range(1,digit+1):\n",
        "    factorial=factorial*i\n",
        "  sum=sum+factorial\n",
        "  a=a//10\n",
        "if(sum==n):\n",
        "      print(\"strong number\")\n",
        "else:\n",
        "      print(\"not a strong number\")"
      ],
      "metadata": {
        "colab": {
          "base_uri": "https://localhost:8080/"
        },
        "id": "WRzo2C6iLlPn",
        "outputId": "4b21eb84-2f8e-4bda-a821-f4a4f6aaaa12"
      },
      "execution_count": 43,
      "outputs": [
        {
          "output_type": "stream",
          "name": "stdout",
          "text": [
            "145\n",
            "strong number\n"
          ]
        }
      ]
    },
    {
      "cell_type": "code",
      "source": [
        "num=int(input())\n",
        "num=num*num\n",
        "print(num)"
      ],
      "metadata": {
        "colab": {
          "base_uri": "https://localhost:8080/"
        },
        "id": "zci7idyqNKYq",
        "outputId": "418b04da-3d60-43a4-9ebb-376de26a151e"
      },
      "execution_count": 38,
      "outputs": [
        {
          "output_type": "stream",
          "name": "stdout",
          "text": [
            "5\n",
            "25\n"
          ]
        }
      ]
    },
    {
      "cell_type": "code",
      "source": [
        "l1=[10,20,30,40,50]\n",
        "a=l1[1:5:2]\n",
        "print(a)"
      ],
      "metadata": {
        "colab": {
          "base_uri": "https://localhost:8080/"
        },
        "id": "7ZkGtKb5Nc60",
        "outputId": "434ff087-e207-4a7b-d9b3-723abaf55bc7"
      },
      "execution_count": 41,
      "outputs": [
        {
          "output_type": "stream",
          "name": "stdout",
          "text": [
            "[20, 40]\n"
          ]
        }
      ]
    },
    {
      "cell_type": "code",
      "source": [
        "a=list(map(int,input().split()))\n",
        "s=a[0:6:2]\n",
        "print(s)"
      ],
      "metadata": {
        "colab": {
          "base_uri": "https://localhost:8080/"
        },
        "id": "pTCDVdCKOA74",
        "outputId": "45ae34b4-2cbe-4668-a500-d19f12934f75"
      },
      "execution_count": 45,
      "outputs": [
        {
          "output_type": "stream",
          "name": "stdout",
          "text": [
            "10  20  30  40  50  60\n",
            "[10, 30, 50]\n"
          ]
        }
      ]
    },
    {
      "cell_type": "code",
      "source": [
        "n=int(input())\n",
        "for i in range(1,10):\n",
        "  print(n*i,end=\" \")"
      ],
      "metadata": {
        "id": "AIWsTsZCO5lb",
        "outputId": "cb839d7f-d59c-4b31-e5e9-4a0b92d42d37",
        "colab": {
          "base_uri": "https://localhost:8080/"
        }
      },
      "execution_count": 49,
      "outputs": [
        {
          "output_type": "stream",
          "name": "stdout",
          "text": [
            "7\n",
            "7 14 21 28 35 42 49 56 63 "
          ]
        }
      ]
    }
  ]
}